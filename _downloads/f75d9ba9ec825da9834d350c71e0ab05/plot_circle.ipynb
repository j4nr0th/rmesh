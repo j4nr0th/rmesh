{
  "cells": [
    {
      "cell_type": "markdown",
      "metadata": {},
      "source": [
        "\n# Meshing a Circle\n\n.. currentmodule:: rmsh\n\nThis example shows how a simple circular mesh can be created using ``rmsh``.\nIt is also intended to show what incorrect usage may lead to in hopes of\nbeing useful when trying to identify errors.\n"
      ]
    },
    {
      "cell_type": "markdown",
      "metadata": {},
      "source": [
        "## The Setup\n\nFirst the common setup for plotting has to be made. For this case, it will be done using\nthe :mod:`matplotlib` module, using :class:`matplotlib.collections.LineCollection` to\nplot cell boundaries.\n\n\n"
      ]
    },
    {
      "cell_type": "code",
      "execution_count": null,
      "metadata": {
        "collapsed": false
      },
      "outputs": [],
      "source": [
        "from time import perf_counter\n\nimport numpy as np\nfrom matplotlib import pyplot as plt\nfrom matplotlib.collections import LineCollection\nfrom rmsh import (\n    BoundaryBlock,\n    BoundaryCurve,\n    BoundaryId,\n    Mesh2D,\n    MeshBlock,\n    SolverConfig,\n    create_elliptical_mesh,\n)\n\n\ndef plot_mesh(m: Mesh2D) -> None:\n    \"\"\"Show the mesh using matplotlib.\"\"\"\n    x = m.pos_x\n    y = m.pos_y\n    line_indices = m.lines\n    xb = x[line_indices[:, 0]]\n    xe = x[line_indices[:, 1]]\n    yb = y[line_indices[:, 0]]\n    ye = y[line_indices[:, 1]]\n\n    rb = np.stack((xb, yb), axis=1)\n    re = np.stack((xe, ye), axis=1)\n    c = LineCollection(np.stack((rb, re), axis=1))\n    plt.scatter(x, y, s=8, color=\"red\")\n    # for idx in range(line_indices.shape[0]):\n    #     plt.plot((xb[idx], xe[idx]), (yb[idx], ye[idx]))\n    plt.gca().add_collection(c)\n    plt.gca().set_aspect(\"equal\")\n    plt.xlim(-1.1, +1.1)\n    plt.ylim(-1.1, +1.1)\n    plt.show()"
      ]
    },
    {
      "cell_type": "markdown",
      "metadata": {},
      "source": [
        "## Simplest\n\nFirst is the most basic approach. In this case, only a single block is used,\nwith its boundaries being the circumference of the circle that we want to mesh.\n\n\n"
      ]
    },
    {
      "cell_type": "code",
      "execution_count": null,
      "metadata": {
        "collapsed": false
      },
      "outputs": [],
      "source": [
        "def one_block_only(n1: int, n2: int) -> Mesh2D:\n    \"\"\"Mesh a circle with a single block.\"\"\"\n    angle_l = np.linspace(+0 * np.pi / 2, +1 * np.pi / 2, n1)\n    angle_b = np.linspace(+1 * np.pi / 2, +2 * np.pi / 2, n2)\n    angle_r = np.linspace(+2 * np.pi / 2, +3 * np.pi / 2, n1)\n    angle_t = np.linspace(+3 * np.pi / 2, +4 * np.pi / 2, n2)\n\n    cl = BoundaryCurve(np.cos(angle_l), np.sin(angle_l))\n    cr = BoundaryCurve(np.cos(angle_r), np.sin(angle_r))\n    ct = BoundaryCurve(np.cos(angle_t), np.sin(angle_t))\n    cb = BoundaryCurve(np.cos(angle_b), np.sin(angle_b))\n\n    block = MeshBlock(\n        \"only one\",\n        {\n            BoundaryId.BoundaryWest: cl,\n            BoundaryId.BoundaryEast: cr,\n            BoundaryId.BoundaryNorth: ct,\n            BoundaryId.BoundarySouth: cb,\n        },\n    )\n    t0 = perf_counter()\n    m, _, _ = create_elliptical_mesh([block])\n    t1 = perf_counter()\n    print(f\"Meshed in {t1 - t0:g} seconds.\")\n    return m\n\n\n# Now let's show it!"
      ]
    },
    {
      "cell_type": "code",
      "execution_count": null,
      "metadata": {
        "collapsed": false
      },
      "outputs": [],
      "source": [
        "plot_mesh(one_block_only(2, 2))"
      ]
    },
    {
      "cell_type": "code",
      "execution_count": null,
      "metadata": {
        "collapsed": false
      },
      "outputs": [],
      "source": [
        "plot_mesh(one_block_only(10, 10))"
      ]
    },
    {
      "cell_type": "code",
      "execution_count": null,
      "metadata": {
        "collapsed": false
      },
      "outputs": [],
      "source": [
        "plot_mesh(one_block_only(50, 50))"
      ]
    },
    {
      "cell_type": "markdown",
      "metadata": {},
      "source": [
        "## Almost the Worst\n\nNext is one worst possible things you can make while meshing: a pair of\nboundaries, which at no point have a connection with a curve. In this\ncase, the left and right boundaries only need to connect to one another\nand have no requirement on their position. Top and bottom boundaries\neach cover half of a circle.\n\nThe resulting mesh is very overlapping and very silly looking. If you\nobtain such a mesh from your meshing, consider checking how you've defined\nthe boundaries defined by :class:`BoundaryBlock` objects.\n\n"
      ]
    },
    {
      "cell_type": "code",
      "execution_count": null,
      "metadata": {
        "collapsed": false
      },
      "outputs": [],
      "source": [
        "def self_closed_mesh(n1: int, n2: int) -> Mesh2D:\n    \"\"\"Mesh a circle by self connecting two opposing boundaries.\"\"\"\n    angle_b = np.linspace(-np.pi, 0, n2)\n    angle_t = np.linspace(0, +np.pi, n2)\n\n    ct = BoundaryCurve(np.cos(angle_t), np.sin(angle_t))\n    cb = BoundaryCurve(np.cos(angle_b), np.sin(angle_b))\n\n    bl = BoundaryBlock(\"only one\", BoundaryId.BoundaryEast, n1)\n    br = BoundaryBlock(\"only one\", BoundaryId.BoundaryWest, n1)\n\n    block = MeshBlock(\n        \"only one\",\n        {\n            BoundaryId.BoundaryWest: bl,\n            BoundaryId.BoundaryEast: br,\n            BoundaryId.BoundaryNorth: ct,\n            BoundaryId.BoundarySouth: cb,\n        },\n    )\n\n    t0 = perf_counter()\n    m, _, _ = create_elliptical_mesh([block])\n    t1 = perf_counter()\n    print(f\"Meshed in {t1 - t0:g} seconds.\")\n    return m\n\n\n# Now let's show it!"
      ]
    },
    {
      "cell_type": "code",
      "execution_count": null,
      "metadata": {
        "collapsed": false
      },
      "outputs": [],
      "source": [
        "plot_mesh(self_closed_mesh(2, 2))"
      ]
    },
    {
      "cell_type": "code",
      "execution_count": null,
      "metadata": {
        "collapsed": false
      },
      "outputs": [],
      "source": [
        "plot_mesh(self_closed_mesh(10, 10))"
      ]
    },
    {
      "cell_type": "code",
      "execution_count": null,
      "metadata": {
        "collapsed": false
      },
      "outputs": [],
      "source": [
        "plot_mesh(self_closed_mesh(50, 50))"
      ]
    },
    {
      "cell_type": "markdown",
      "metadata": {},
      "source": [
        "## Doing it Wrong\n\nA way to make the initial circular mesh better would be to mesh with five blocks,\nrather than five. However if they are connected incorrectly, the result will be\nsignificantly worse.\n\n"
      ]
    },
    {
      "cell_type": "code",
      "execution_count": null,
      "metadata": {
        "collapsed": false
      },
      "outputs": [],
      "source": [
        "def four_wierdly_connected_ones(n1: int, n2: int) -> Mesh2D:\n    \"\"\"Mesh in a weird way, where four blocks are used, but weirdly connected.\"\"\"\n    angle_l = np.linspace(+0 * np.pi / 2, +1 * np.pi / 2, n1)\n    angle_b = np.linspace(+1 * np.pi / 2, +2 * np.pi / 2, n2)\n    angle_r = np.linspace(+2 * np.pi / 2, +3 * np.pi / 2, n1)\n    angle_t = np.linspace(+3 * np.pi / 2, +4 * np.pi / 2, n2)\n\n    cl = BoundaryCurve(np.cos(angle_l), np.sin(angle_l))\n    cr = BoundaryCurve(np.cos(angle_r), np.sin(angle_r))\n    ct = BoundaryCurve(np.cos(angle_t), np.sin(angle_t))\n    cb = BoundaryCurve(np.cos(angle_b), np.sin(angle_b))\n\n    blockwest = MeshBlock(\n        \"left\",\n        {\n            BoundaryId.BoundaryWest: cl,\n            BoundaryId.BoundaryEast: BoundaryBlock(\"right\", BoundaryId.BoundaryWest, n1),\n            BoundaryId.BoundaryNorth: BoundaryBlock(\"top\", BoundaryId.BoundaryWest, n2),\n            BoundaryId.BoundarySouth: BoundaryBlock(\n                \"bottom\", BoundaryId.BoundaryWest, n2\n            ),\n        },\n    )\n    blockeast = MeshBlock(\n        \"right\",\n        {\n            BoundaryId.BoundaryWest: BoundaryBlock(\"left\", BoundaryId.BoundaryEast, n1),\n            BoundaryId.BoundaryEast: cr,\n            BoundaryId.BoundaryNorth: BoundaryBlock(\"top\", BoundaryId.BoundaryEast, n2),\n            BoundaryId.BoundarySouth: BoundaryBlock(\n                \"bottom\", BoundaryId.BoundaryEast, n2\n            ),\n        },\n    )\n    blocknorth = MeshBlock(\n        \"top\",\n        {\n            BoundaryId.BoundaryWest: BoundaryBlock(\"left\", BoundaryId.BoundaryNorth, n1),\n            BoundaryId.BoundaryEast: BoundaryBlock(\"right\", BoundaryId.BoundaryNorth, n1),\n            BoundaryId.BoundaryNorth: ct,\n            BoundaryId.BoundarySouth: BoundaryBlock(\n                \"bottom\", BoundaryId.BoundaryNorth, n2\n            ),\n        },\n    )\n    blocksouth = MeshBlock(\n        \"bottom\",\n        {\n            BoundaryId.BoundaryWest: BoundaryBlock(\"left\", BoundaryId.BoundarySouth, n1),\n            BoundaryId.BoundaryEast: BoundaryBlock(\"right\", BoundaryId.BoundarySouth, n1),\n            BoundaryId.BoundaryNorth: BoundaryBlock(\"top\", BoundaryId.BoundarySouth, n2),\n            BoundaryId.BoundarySouth: cb,\n        },\n    )\n    t0 = perf_counter()\n    m, _, _ = create_elliptical_mesh(\n        [blockwest, blockeast, blocknorth, blocksouth],\n        verbose=False,\n        solver_cfg=SolverConfig(smoother_rounds=0, max_iterations=64),\n    )\n    t1 = perf_counter()\n    print(f\"Meshed in {t1 - t0:g} seconds.\")\n    return m\n\n\n# Now let's show it!"
      ]
    },
    {
      "cell_type": "code",
      "execution_count": null,
      "metadata": {
        "collapsed": false
      },
      "outputs": [],
      "source": [
        "plot_mesh(four_wierdly_connected_ones(2, 2))"
      ]
    },
    {
      "cell_type": "code",
      "execution_count": null,
      "metadata": {
        "collapsed": false
      },
      "outputs": [],
      "source": [
        "plot_mesh(four_wierdly_connected_ones(10, 10))"
      ]
    },
    {
      "cell_type": "code",
      "execution_count": null,
      "metadata": {
        "collapsed": false
      },
      "outputs": [],
      "source": [
        "plot_mesh(four_wierdly_connected_ones(50, 50))"
      ]
    },
    {
      "cell_type": "markdown",
      "metadata": {},
      "source": [
        "## Doing it Right\n\nProbably the best way to mesh the circle is using five blocks, so that a quarter\nof the boundary is take care of by one block each, then they're all connected\ntogether using a central block with no numerical boundaries.\n\n"
      ]
    },
    {
      "cell_type": "code",
      "execution_count": null,
      "metadata": {
        "collapsed": false
      },
      "outputs": [],
      "source": [
        "def as_god_intended(n1: int, n2: int, n3: int) -> Mesh2D:\n    \"\"\"Mesh the circle the way God intended.\"\"\"\n    angle_l = np.linspace(+0 * np.pi / 2, +1 * np.pi / 2, n1)\n    angle_b = np.linspace(+1 * np.pi / 2, +2 * np.pi / 2, n2)\n    angle_r = np.linspace(+2 * np.pi / 2, +3 * np.pi / 2, n1)\n    angle_t = np.linspace(+3 * np.pi / 2, +4 * np.pi / 2, n2)\n\n    cl = BoundaryCurve(np.cos(angle_l), np.sin(angle_l))\n    cr = BoundaryCurve(np.cos(angle_r), np.sin(angle_r))\n    ct = BoundaryCurve(np.cos(angle_t), np.sin(angle_t))\n    cb = BoundaryCurve(np.cos(angle_b), np.sin(angle_b))\n\n    blockwest = MeshBlock(\n        \"left\",\n        {\n            BoundaryId.BoundaryWest: cl,\n            BoundaryId.BoundaryEast: BoundaryBlock(\"center\", BoundaryId.BoundaryWest, n1),\n            BoundaryId.BoundaryNorth: BoundaryBlock(\"top\", BoundaryId.BoundaryWest, n3),\n            BoundaryId.BoundarySouth: BoundaryBlock(\n                \"bottom\", BoundaryId.BoundaryWest, n3\n            ),\n        },\n    )\n    blockeast = MeshBlock(\n        \"right\",\n        {\n            BoundaryId.BoundaryWest: BoundaryBlock(\"center\", BoundaryId.BoundaryEast, n1),\n            BoundaryId.BoundaryEast: cr,\n            BoundaryId.BoundaryNorth: BoundaryBlock(\"top\", BoundaryId.BoundaryEast, n3),\n            BoundaryId.BoundarySouth: BoundaryBlock(\n                \"bottom\", BoundaryId.BoundaryEast, n3\n            ),\n        },\n    )\n    blocknorth = MeshBlock(\n        \"top\",\n        {\n            BoundaryId.BoundaryWest: BoundaryBlock(\"left\", BoundaryId.BoundaryNorth, n3),\n            BoundaryId.BoundaryEast: BoundaryBlock(\"right\", BoundaryId.BoundaryNorth, n3),\n            BoundaryId.BoundaryNorth: ct,\n            BoundaryId.BoundarySouth: BoundaryBlock(\n                \"center\", BoundaryId.BoundaryNorth, n2\n            ),\n        },\n    )\n    blocksouth = MeshBlock(\n        \"bottom\",\n        {\n            BoundaryId.BoundaryWest: BoundaryBlock(\"left\", BoundaryId.BoundarySouth, n3),\n            BoundaryId.BoundaryEast: BoundaryBlock(\"right\", BoundaryId.BoundarySouth, n3),\n            BoundaryId.BoundaryNorth: BoundaryBlock(\n                \"center\", BoundaryId.BoundarySouth, n2\n            ),\n            BoundaryId.BoundarySouth: cb,\n        },\n    )\n    blockmiddle = MeshBlock(\n        \"center\",\n        {\n            BoundaryId.BoundaryWest: BoundaryBlock(\"left\", BoundaryId.BoundaryEast, n1),\n            BoundaryId.BoundaryEast: BoundaryBlock(\"right\", BoundaryId.BoundaryWest, n1),\n            BoundaryId.BoundaryNorth: BoundaryBlock(\"top\", BoundaryId.BoundarySouth, n2),\n            BoundaryId.BoundarySouth: BoundaryBlock(\n                \"bottom\", BoundaryId.BoundaryNorth, n2\n            ),\n        },\n    )\n\n    t0 = perf_counter()\n    m, _, _ = create_elliptical_mesh(\n        [blockwest, blockeast, blocknorth, blocksouth, blockmiddle],\n        verbose=False,\n        solver_cfg=SolverConfig(\n            smoother_rounds=0, max_iterations=64, tolerance=5e-6, force_direct=False\n        ),\n    )\n    t1 = perf_counter()\n    print(f\"Meshed in {t1 - t0:g} seconds.\")\n    return m"
      ]
    },
    {
      "cell_type": "code",
      "execution_count": null,
      "metadata": {
        "collapsed": false
      },
      "outputs": [],
      "source": [
        "plot_mesh(as_god_intended(2, 2, 2))"
      ]
    },
    {
      "cell_type": "code",
      "execution_count": null,
      "metadata": {
        "collapsed": false
      },
      "outputs": [],
      "source": [
        "plot_mesh(as_god_intended(5, 5, 5))"
      ]
    },
    {
      "cell_type": "code",
      "execution_count": null,
      "metadata": {
        "collapsed": false
      },
      "outputs": [],
      "source": [
        "plot_mesh(as_god_intended(25, 25, 25))"
      ]
    },
    {
      "cell_type": "markdown",
      "metadata": {},
      "source": [
        "## No Boundaries\n\nIf you decide to define a mesh which has no numerical boundaries, it is technically\npossible, however, the solver will just place all points in the origin, though the\ntopology will still remain correct.\n\n"
      ]
    },
    {
      "cell_type": "code",
      "execution_count": null,
      "metadata": {
        "collapsed": false
      },
      "outputs": [],
      "source": [
        "def ungodly(n1: int, n2: int) -> Mesh2D:\n    \"\"\"Mesh with no hard boundaries.\"\"\"\n    blockmiddle = MeshBlock(\n        \"center\",\n        {\n            BoundaryId.BoundaryWest: BoundaryBlock(\"center\", BoundaryId.BoundaryEast, n1),\n            BoundaryId.BoundaryEast: BoundaryBlock(\"center\", BoundaryId.BoundaryWest, n1),\n            BoundaryId.BoundaryNorth: BoundaryBlock(\n                \"center\", BoundaryId.BoundarySouth, n2\n            ),\n            BoundaryId.BoundarySouth: BoundaryBlock(\n                \"center\", BoundaryId.BoundaryNorth, n2\n            ),\n        },\n    )\n\n    t0 = perf_counter()\n    m, _, _ = create_elliptical_mesh(\n        [blockmiddle],\n        verbose=False,\n        solver_cfg=SolverConfig(smoother_rounds=0, max_iterations=64),\n    )\n    t1 = perf_counter()\n    print(f\"Meshed in {t1 - t0:g} seconds.\")\n    return m"
      ]
    },
    {
      "cell_type": "code",
      "execution_count": null,
      "metadata": {
        "collapsed": false
      },
      "outputs": [],
      "source": [
        "plot_mesh(ungodly(2, 2))"
      ]
    },
    {
      "cell_type": "code",
      "execution_count": null,
      "metadata": {
        "collapsed": false
      },
      "outputs": [],
      "source": [
        "plot_mesh(ungodly(5, 5))"
      ]
    },
    {
      "cell_type": "code",
      "execution_count": null,
      "metadata": {
        "collapsed": false
      },
      "outputs": [],
      "source": [
        "plot_mesh(ungodly(25, 25))"
      ]
    },
    {
      "cell_type": "markdown",
      "metadata": {},
      "source": [
        "## Mixing Up Boundaries\n\nOnce, again, mixing up boundaries will inevitably result in a self-overlapping mesh.\nThis example here does so with four different blocks.\n\n"
      ]
    },
    {
      "cell_type": "code",
      "execution_count": null,
      "metadata": {
        "collapsed": false
      },
      "outputs": [],
      "source": [
        "def four_weirder(n: int) -> Mesh2D:\n    \"\"\"Outer boundary's correct, but the rest is not.\"\"\"\n    angle_l = np.linspace(+0 * np.pi / 2, +1 * np.pi / 2, n)\n    angle_b = np.linspace(+1 * np.pi / 2, +2 * np.pi / 2, n)\n    angle_r = np.linspace(+2 * np.pi / 2, +3 * np.pi / 2, n)\n    angle_t = np.linspace(+3 * np.pi / 2, +4 * np.pi / 2, n)\n\n    cl = BoundaryCurve(np.cos(angle_l), np.sin(angle_l))\n    cr = BoundaryCurve(np.cos(angle_r), np.sin(angle_r))\n    ct = BoundaryCurve(np.cos(angle_t), np.sin(angle_t))\n    cb = BoundaryCurve(np.cos(angle_b), np.sin(angle_b))\n\n    blockwest = MeshBlock(\n        \"left\",\n        {\n            BoundaryId.BoundaryWest: cl,\n            BoundaryId.BoundaryEast: BoundaryBlock(\"bottom\", BoundaryId.BoundaryWest),\n            BoundaryId.BoundaryNorth: BoundaryBlock(\"top\", BoundaryId.BoundarySouth),\n            BoundaryId.BoundarySouth: BoundaryBlock(\"right\", BoundaryId.BoundaryNorth),\n        },\n    )\n    blockeast = MeshBlock(\n        \"right\",\n        {\n            BoundaryId.BoundaryWest: BoundaryBlock(\"top\", BoundaryId.BoundaryEast),\n            BoundaryId.BoundaryEast: cr,\n            BoundaryId.BoundaryNorth: BoundaryBlock(\"left\", BoundaryId.BoundarySouth),\n            BoundaryId.BoundarySouth: BoundaryBlock(\"bottom\", BoundaryId.BoundaryNorth),\n        },\n    )\n    blocknorth = MeshBlock(\n        \"top\",\n        {\n            BoundaryId.BoundaryWest: BoundaryBlock(\"bottom\", BoundaryId.BoundaryEast),\n            BoundaryId.BoundaryEast: BoundaryBlock(\"right\", BoundaryId.BoundaryWest),\n            BoundaryId.BoundaryNorth: ct,\n            BoundaryId.BoundarySouth: BoundaryBlock(\"left\", BoundaryId.BoundaryNorth),\n        },\n    )\n    blocksouth = MeshBlock(\n        \"bottom\",\n        {\n            BoundaryId.BoundaryWest: BoundaryBlock(\"left\", BoundaryId.BoundaryEast),\n            BoundaryId.BoundaryEast: BoundaryBlock(\"top\", BoundaryId.BoundaryWest),\n            BoundaryId.BoundaryNorth: BoundaryBlock(\"right\", BoundaryId.BoundarySouth),\n            BoundaryId.BoundarySouth: cb,\n        },\n    )\n\n    t0 = perf_counter()\n    m, _, _ = create_elliptical_mesh(\n        [blockwest, blockeast, blocknorth, blocksouth],\n        verbose=False,\n        solver_cfg=SolverConfig(smoother_rounds=0, max_iterations=64),\n    )\n    t1 = perf_counter()\n    print(f\"Meshed in {t1 - t0:g} seconds.\")\n    return m"
      ]
    },
    {
      "cell_type": "code",
      "execution_count": null,
      "metadata": {
        "collapsed": false
      },
      "outputs": [],
      "source": [
        "plot_mesh(four_weirder(2))"
      ]
    },
    {
      "cell_type": "code",
      "execution_count": null,
      "metadata": {
        "collapsed": false
      },
      "outputs": [],
      "source": [
        "plot_mesh(four_weirder(10))"
      ]
    },
    {
      "cell_type": "code",
      "execution_count": null,
      "metadata": {
        "collapsed": false
      },
      "outputs": [],
      "source": [
        "plot_mesh(four_weirder(50))"
      ]
    }
  ],
  "metadata": {
    "kernelspec": {
      "display_name": "Python 3",
      "language": "python",
      "name": "python3"
    },
    "language_info": {
      "codemirror_mode": {
        "name": "ipython",
        "version": 3
      },
      "file_extension": ".py",
      "mimetype": "text/x-python",
      "name": "python",
      "nbconvert_exporter": "python",
      "pygments_lexer": "ipython3",
      "version": "3.13.1"
    }
  },
  "nbformat": 4,
  "nbformat_minor": 0
}